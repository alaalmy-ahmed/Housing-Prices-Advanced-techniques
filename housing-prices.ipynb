{
 "cells": [
  {
   "cell_type": "code",
   "execution_count": 1,
   "id": "99d1453f",
   "metadata": {
    "_cell_guid": "b1076dfc-b9ad-4769-8c92-a6c4dae69d19",
    "_uuid": "8f2839f25d086af736a60e9eeb907d3b93b6e0e5",
    "execution": {
     "iopub.execute_input": "2022-07-03T17:01:00.930905Z",
     "iopub.status.busy": "2022-07-03T17:01:00.930384Z",
     "iopub.status.idle": "2022-07-03T17:01:00.947211Z",
     "shell.execute_reply": "2022-07-03T17:01:00.945248Z"
    },
    "papermill": {
     "duration": 0.03668,
     "end_time": "2022-07-03T17:01:00.950955",
     "exception": false,
     "start_time": "2022-07-03T17:01:00.914275",
     "status": "completed"
    },
    "tags": []
   },
   "outputs": [
    {
     "name": "stdout",
     "output_type": "stream",
     "text": [
      "/kaggle/input/house-prices-advanced-regression-techniques/sample_submission.csv\n",
      "/kaggle/input/house-prices-advanced-regression-techniques/data_description.txt\n",
      "/kaggle/input/house-prices-advanced-regression-techniques/train.csv\n",
      "/kaggle/input/house-prices-advanced-regression-techniques/test.csv\n"
     ]
    }
   ],
   "source": [
    "# This Python 3 environment comes with many helpful analytics libraries installed\n",
    "# It is defined by the kaggle/python Docker image: https://github.com/kaggle/docker-python\n",
    "# For example, here's several helpful packages to load\n",
    "\n",
    "import numpy as np # linear algebra\n",
    "import pandas as pd # data processing, CSV file I/O (e.g. pd.read_csv)\n",
    "\n",
    "# Input data files are available in the read-only \"../input/\" directory\n",
    "# For example, running this (by clicking run or pressing Shift+Enter) will list all files under the input directory\n",
    "\n",
    "import os\n",
    "for dirname, _, filenames in os.walk('/kaggle/input'):\n",
    "    for filename in filenames:\n",
    "        print(os.path.join(dirname, filename))\n",
    "\n",
    "# You can write up to 20GB to the current directory (/kaggle/working/) that gets preserved as output when you create a version using \"Save & Run All\" \n",
    "# You can also write temporary files to /kaggle/temp/, but they won't be saved outside of the current session"
   ]
  },
  {
   "cell_type": "code",
   "execution_count": 2,
   "id": "cb6ab58b",
   "metadata": {
    "execution": {
     "iopub.execute_input": "2022-07-03T17:01:00.970415Z",
     "iopub.status.busy": "2022-07-03T17:01:00.969621Z",
     "iopub.status.idle": "2022-07-03T17:01:02.142635Z",
     "shell.execute_reply": "2022-07-03T17:01:02.141373Z"
    },
    "papermill": {
     "duration": 1.184705,
     "end_time": "2022-07-03T17:01:02.145194",
     "exception": false,
     "start_time": "2022-07-03T17:01:00.960489",
     "status": "completed"
    },
    "tags": []
   },
   "outputs": [
    {
     "name": "stdout",
     "output_type": "stream",
     "text": [
      "house-prices-advanced-regression-techniques\n",
      "\n"
     ]
    }
   ],
   "source": [
    "#import some necessary librairies\n",
    "\n",
    "import numpy as np # linear algebra\n",
    "import pandas as pd # data processing, CSV file I/O (e.g. pd.read_csv)\n",
    "%matplotlib inline\n",
    "import matplotlib.pyplot as plt  # Matlab-style plotting\n",
    "import seaborn as sns\n",
    "color = sns.color_palette()\n",
    "sns.set_style('darkgrid')\n",
    "import warnings\n",
    "def ignore_warn(*args, **kwargs):\n",
    "    pass\n",
    "warnings.warn = ignore_warn #ignore annoying warning (from sklearn and seaborn)\n",
    "\n",
    "\n",
    "from scipy import stats\n",
    "from scipy.stats import norm, skew #for some statistics\n",
    "\n",
    "\n",
    "pd.set_option('display.float_format', lambda x: '{:.3f}'.format(x)) #Limiting floats output to 3 decimal points\n",
    "\n",
    "\n",
    "from subprocess import check_output\n",
    "print(check_output([\"ls\", \"../input\"]).decode(\"utf8\")) #check the files available in the directory"
   ]
  },
  {
   "cell_type": "code",
   "execution_count": 3,
   "id": "676b5521",
   "metadata": {
    "execution": {
     "iopub.execute_input": "2022-07-03T17:01:02.162529Z",
     "iopub.status.busy": "2022-07-03T17:01:02.161974Z",
     "iopub.status.idle": "2022-07-03T17:01:02.234241Z",
     "shell.execute_reply": "2022-07-03T17:01:02.233214Z"
    },
    "papermill": {
     "duration": 0.084131,
     "end_time": "2022-07-03T17:01:02.236849",
     "exception": false,
     "start_time": "2022-07-03T17:01:02.152718",
     "status": "completed"
    },
    "tags": []
   },
   "outputs": [],
   "source": [
    "train = pd.read_csv('../input/house-prices-advanced-regression-techniques/train.csv')\n",
    "test = pd.read_csv('../input/house-prices-advanced-regression-techniques/test.csv')"
   ]
  },
  {
   "cell_type": "code",
   "execution_count": 4,
   "id": "328b880a",
   "metadata": {
    "execution": {
     "iopub.execute_input": "2022-07-03T17:01:02.253130Z",
     "iopub.status.busy": "2022-07-03T17:01:02.252742Z",
     "iopub.status.idle": "2022-07-03T17:01:02.276948Z",
     "shell.execute_reply": "2022-07-03T17:01:02.276236Z"
    },
    "papermill": {
     "duration": 0.035001,
     "end_time": "2022-07-03T17:01:02.279202",
     "exception": false,
     "start_time": "2022-07-03T17:01:02.244201",
     "status": "completed"
    },
    "tags": []
   },
   "outputs": [
    {
     "name": "stdout",
     "output_type": "stream",
     "text": [
      "The train data size before dropping Id feature is : (1460, 81) \n",
      "The test data size before dropping Id feature is : (1459, 80) \n",
      "\n",
      "The train data size after dropping Id feature is : (1460, 80) \n",
      "The test data size after dropping Id feature is : (1459, 79) \n"
     ]
    }
   ],
   "source": [
    "#check the numbers of samples and features\n",
    "print(\"The train data size before dropping Id feature is : {} \".format(train.shape))\n",
    "print(\"The test data size before dropping Id feature is : {} \".format(test.shape))\n",
    "\n",
    "#Save the 'Id' column\n",
    "train_ID = train['Id']\n",
    "test_ID = test['Id']\n",
    "\n",
    "#Now drop the  'Id' colum since it's unnecessary for  the prediction process.\n",
    "train.drop(\"Id\", axis = 1, inplace = True)\n",
    "test.drop(\"Id\", axis = 1, inplace = True)\n",
    "\n",
    "#check again the data size after dropping the 'Id' variable\n",
    "print(\"\\nThe train data size after dropping Id feature is : {} \".format(train.shape)) \n",
    "print(\"The test data size after dropping Id feature is : {} \".format(test.shape))"
   ]
  },
  {
   "cell_type": "code",
   "execution_count": 5,
   "id": "41413686",
   "metadata": {
    "execution": {
     "iopub.execute_input": "2022-07-03T17:01:02.297302Z",
     "iopub.status.busy": "2022-07-03T17:01:02.295951Z",
     "iopub.status.idle": "2022-07-03T17:01:02.306272Z",
     "shell.execute_reply": "2022-07-03T17:01:02.305350Z"
    },
    "papermill": {
     "duration": 0.022029,
     "end_time": "2022-07-03T17:01:02.309244",
     "exception": false,
     "start_time": "2022-07-03T17:01:02.287215",
     "status": "completed"
    },
    "tags": []
   },
   "outputs": [
    {
     "name": "stdout",
     "output_type": "stream",
     "text": [
      "numerical columns are  ['MSSubClass', 'LotFrontage', 'LotArea', 'OverallQual', 'OverallCond', 'YearBuilt', 'YearRemodAdd', 'MasVnrArea', 'BsmtFinSF1', 'BsmtFinSF2', 'BsmtUnfSF', 'TotalBsmtSF', '1stFlrSF', '2ndFlrSF', 'LowQualFinSF', 'GrLivArea', 'BsmtFullBath', 'BsmtHalfBath', 'FullBath', 'HalfBath', 'BedroomAbvGr', 'KitchenAbvGr', 'TotRmsAbvGrd', 'Fireplaces', 'GarageYrBlt', 'GarageCars', 'GarageArea', 'WoodDeckSF', 'OpenPorchSF', 'EnclosedPorch', '3SsnPorch', 'ScreenPorch', 'PoolArea', 'MiscVal', 'MoSold', 'YrSold', 'SalePrice'] \n",
      "\n",
      "\n",
      "categorical columns are  ['MSZoning', 'Street', 'Alley', 'LotShape', 'LandContour', 'Utilities', 'LotConfig', 'LandSlope', 'Neighborhood', 'Condition1', 'Condition2', 'BldgType', 'HouseStyle', 'RoofStyle', 'RoofMatl', 'Exterior1st', 'Exterior2nd', 'MasVnrType', 'ExterQual', 'ExterCond', 'Foundation', 'BsmtQual', 'BsmtCond', 'BsmtExposure', 'BsmtFinType1', 'BsmtFinType2', 'Heating', 'HeatingQC', 'CentralAir', 'Electrical', 'KitchenQual', 'Functional', 'FireplaceQu', 'GarageType', 'GarageFinish', 'GarageQual', 'GarageCond', 'PavedDrive', 'PoolQC', 'Fence', 'MiscFeature', 'SaleType', 'SaleCondition']\n"
     ]
    }
   ],
   "source": [
    "num_cols = [col for col in train.columns if train[col].dtype in ['int64', 'float64']]\n",
    "cat_cols = [col for col in train.columns if train[col].dtype == 'object']\n",
    "\n",
    "print('numerical columns are ', num_cols, '\\n\\n')\n",
    "print('categorical columns are ', cat_cols)"
   ]
  },
  {
   "cell_type": "code",
   "execution_count": 6,
   "id": "ef567118",
   "metadata": {
    "execution": {
     "iopub.execute_input": "2022-07-03T17:01:02.327057Z",
     "iopub.status.busy": "2022-07-03T17:01:02.326124Z",
     "iopub.status.idle": "2022-07-03T17:01:02.592686Z",
     "shell.execute_reply": "2022-07-03T17:01:02.591360Z"
    },
    "papermill": {
     "duration": 0.277482,
     "end_time": "2022-07-03T17:01:02.594926",
     "exception": false,
     "start_time": "2022-07-03T17:01:02.317444",
     "status": "completed"
    },
    "tags": []
   },
   "outputs": [
    {
     "data": {
      "image/png": "[encoded data removed]",
      "text/plain": [
       "<Figure size 432x288 with 1 Axes>"
      ]
     },
     "metadata": {},
     "output_type": "display_data"
    }
   ],
   "source": [
    "# Showing that the GrLivArea columns has some outliers.\n",
    "fig, ax = plt.subplots()\n",
    "ax.scatter(x = train['GrLivArea'], y = train['SalePrice'])\n",
    "plt.ylabel('SalePrice', fontsize=13)\n",
    "plt.xlabel('GrLivArea', fontsize=13)\n",
    "plt.show()"
   ]
  },
  {
   "cell_type": "markdown",
   "id": "5ac1a12a",
   "metadata": {
    "papermill": {
     "duration": 0.007403,
     "end_time": "2022-07-03T17:01:02.610845",
     "exception": false,
     "start_time": "2022-07-03T17:01:02.603442",
     "status": "completed"
    },
    "tags": []
   },
   "source": [
    "**There are probably others outliers in the training data. However, removing all them may affect badly our models if ever there were also outliers in the test data. That's why , instead of removing them all, we will just manage to make some of our models robust on them.**"
   ]
  },
  {
   "cell_type": "code",
   "execution_count": 7,
   "id": "b039f31d",
   "metadata": {
    "execution": {
     "iopub.execute_input": "2022-07-03T17:01:02.627940Z",
     "iopub.status.busy": "2022-07-03T17:01:02.627556Z",
     "iopub.status.idle": "2022-07-03T17:01:02.850913Z",
     "shell.execute_reply": "2022-07-03T17:01:02.850153Z"
    },
    "papermill": {
     "duration": 0.234267,
     "end_time": "2022-07-03T17:01:02.852884",
     "exception": false,
     "start_time": "2022-07-03T17:01:02.618617",
     "status": "completed"
    },
    "tags": []
   },
   "outputs": [
    {
     "data": {
      "image/png": "[encoded data removed]",
      "text/plain": [
       "<Figure size 432x288 with 1 Axes>"
      ]
     },
     "metadata": {},
     "output_type": "display_data"
    }
   ],
   "source": [
    "# Dropping those outliers of GrLivArea.\n",
    "# you can easily see that the region GrLivarea>4000 & SalePrice<30000 represents outliers\n",
    "# So we need to drop those data away\n",
    "\n",
    "#Deleting outliers\n",
    "train = train.drop(train[(train['GrLivArea']>4000) & (train['SalePrice']<300000)].index)\n",
    "\n",
    "#Check the graphic again\n",
    "fig, ax = plt.subplots()\n",
    "ax.scatter(train['GrLivArea'], train['SalePrice'])\n",
    "plt.ylabel('SalePrice', fontsize=13)\n",
    "plt.xlabel('GrLivArea', fontsize=13)\n",
    "plt.show()"
   ]
  },
  {
   "cell_type": "code",
   "execution_count": 8,
   "id": "fe94fa8d",
   "metadata": {
    "execution": {
     "iopub.execute_input": "2022-07-03T17:01:02.872313Z",
     "iopub.status.busy": "2022-07-03T17:01:02.871213Z",
     "iopub.status.idle": "2022-07-03T17:01:02.876972Z",
     "shell.execute_reply": "2022-07-03T17:01:02.876313Z"
    },
    "papermill": {
     "duration": 0.017305,
     "end_time": "2022-07-03T17:01:02.878852",
     "exception": false,
     "start_time": "2022-07-03T17:01:02.861547",
     "status": "completed"
    },
    "tags": []
   },
   "outputs": [],
   "source": [
    "# The target variable is right skewed. As (linear) models love normally distributed data,\n",
    "# we need to transform this variable and make it more normally distributed.\n",
    "\n",
    "# We use the numpy fuction log1p which  applies log(1+x) to all elements of the column\n",
    "train[\"SalePrice\"] = np.log1p(train[\"SalePrice\"])"
   ]
  },
  {
   "cell_type": "code",
   "execution_count": 9,
   "id": "27218229",
   "metadata": {
    "execution": {
     "iopub.execute_input": "2022-07-03T17:01:02.898378Z",
     "iopub.status.busy": "2022-07-03T17:01:02.897008Z",
     "iopub.status.idle": "2022-07-03T17:01:02.930804Z",
     "shell.execute_reply": "2022-07-03T17:01:02.929451Z"
    },
    "papermill": {
     "duration": 0.045679,
     "end_time": "2022-07-03T17:01:02.933081",
     "exception": false,
     "start_time": "2022-07-03T17:01:02.887402",
     "status": "completed"
    },
    "tags": []
   },
   "outputs": [
    {
     "name": "stdout",
     "output_type": "stream",
     "text": [
      "all_data size is : (2917, 79)\n"
     ]
    }
   ],
   "source": [
    "ntrain = train.shape[0]\n",
    "ntest = test.shape[0]\n",
    "y_train = train.SalePrice.values\n",
    "all_data = pd.concat((train, test)).reset_index(drop=True)\n",
    "all_data.drop(['SalePrice'], axis=1, inplace=True)\n",
    "print(\"all_data size is : {}\".format(all_data.shape))"
   ]
  },
  {
   "cell_type": "code",
   "execution_count": 10,
   "id": "3a4d15d0",
   "metadata": {
    "execution": {
     "iopub.execute_input": "2022-07-03T17:01:02.951747Z",
     "iopub.status.busy": "2022-07-03T17:01:02.950591Z",
     "iopub.status.idle": "2022-07-03T17:01:02.979649Z",
     "shell.execute_reply": "2022-07-03T17:01:02.978610Z"
    },
    "papermill": {
     "duration": 0.041088,
     "end_time": "2022-07-03T17:01:02.982252",
     "exception": false,
     "start_time": "2022-07-03T17:01:02.941164",
     "status": "completed"
    },
    "tags": []
   },
   "outputs": [
    {
     "data": {
      "text/html": [
       "<div>\n",
       "<style scoped>\n",
       "    .dataframe tbody tr th:only-of-type {\n",
       "        vertical-align: middle;\n",
       "    }\n",
       "\n",
       "    .dataframe tbody tr th {\n",
       "        vertical-align: top;\n",
       "    }\n",
       "\n",
       "    .dataframe thead th {\n",
       "        text-align: right;\n",
       "    }\n",
       "</style>\n",
       "<table border=\"1\" class=\"dataframe\">\n",
       "  <thead>\n",
       "    <tr style=\"text-align: right;\">\n",
       "      <th></th>\n",
       "      <th>Missing Ratio</th>\n",
       "    </tr>\n",
       "  </thead>\n",
       "  <tbody>\n",
       "    <tr>\n",
       "      <th>PoolQC</th>\n",
       "      <td>99.691</td>\n",
       "    </tr>\n",
       "    <tr>\n",
       "      <th>MiscFeature</th>\n",
       "      <td>96.400</td>\n",
       "    </tr>\n",
       "    <tr>\n",
       "      <th>Alley</th>\n",
       "      <td>93.212</td>\n",
       "    </tr>\n",
       "    <tr>\n",
       "      <th>Fence</th>\n",
       "      <td>80.425</td>\n",
       "    </tr>\n",
       "    <tr>\n",
       "      <th>FireplaceQu</th>\n",
       "      <td>48.680</td>\n",
       "    </tr>\n",
       "    <tr>\n",
       "      <th>LotFrontage</th>\n",
       "      <td>16.661</td>\n",
       "    </tr>\n",
       "    <tr>\n",
       "      <th>GarageFinish</th>\n",
       "      <td>5.451</td>\n",
       "    </tr>\n",
       "    <tr>\n",
       "      <th>GarageQual</th>\n",
       "      <td>5.451</td>\n",
       "    </tr>\n",
       "    <tr>\n",
       "      <th>GarageCond</th>\n",
       "      <td>5.451</td>\n",
       "    </tr>\n",
       "    <tr>\n",
       "      <th>GarageYrBlt</th>\n",
       "      <td>5.451</td>\n",
       "    </tr>\n",
       "    <tr>\n",
       "      <th>GarageType</th>\n",
       "      <td>5.382</td>\n",
       "    </tr>\n",
       "    <tr>\n",
       "      <th>BsmtExposure</th>\n",
       "      <td>2.811</td>\n",
       "    </tr>\n",
       "    <tr>\n",
       "      <th>BsmtCond</th>\n",
       "      <td>2.811</td>\n",
       "    </tr>\n",
       "    <tr>\n",
       "      <th>BsmtQual</th>\n",
       "      <td>2.777</td>\n",
       "    </tr>\n",
       "    <tr>\n",
       "      <th>BsmtFinType2</th>\n",
       "      <td>2.743</td>\n",
       "    </tr>\n",
       "    <tr>\n",
       "      <th>BsmtFinType1</th>\n",
       "      <td>2.708</td>\n",
       "    </tr>\n",
       "    <tr>\n",
       "      <th>MasVnrType</th>\n",
       "      <td>0.823</td>\n",
       "    </tr>\n",
       "    <tr>\n",
       "      <th>MasVnrArea</th>\n",
       "      <td>0.788</td>\n",
       "    </tr>\n",
       "    <tr>\n",
       "      <th>MSZoning</th>\n",
       "      <td>0.137</td>\n",
       "    </tr>\n",
       "    <tr>\n",
       "      <th>BsmtFullBath</th>\n",
       "      <td>0.069</td>\n",
       "    </tr>\n",
       "  </tbody>\n",
       "</table>\n",
       "</div>"
      ],
      "text/plain": [
       "              Missing Ratio\n",
       "PoolQC               99.691\n",
       "MiscFeature          96.400\n",
       "Alley                93.212\n",
       "Fence                80.425\n",
       "FireplaceQu          48.680\n",
       "LotFrontage          16.661\n",
       "GarageFinish          5.451\n",
       "GarageQual            5.451\n",
       "GarageCond            5.451\n",
       "GarageYrBlt           5.451\n",
       "GarageType            5.382\n",
       "BsmtExposure          2.811\n",
       "BsmtCond              2.811\n",
       "BsmtQual              2.777\n",
       "BsmtFinType2          2.743\n",
       "BsmtFinType1          2.708\n",
       "MasVnrType            0.823\n",
       "MasVnrArea            0.788\n",
       "MSZoning              0.137\n",
       "BsmtFullBath          0.069"
      ]
     },
     "execution_count": 10,
     "metadata": {},
     "output_type": "execute_result"
    }
   ],
   "source": [
    "# This will give you all columns with missing data and thier ratio\n",
    "all_data_na = (all_data.isnull().sum() / len(all_data)) * 100\n",
    "all_data_na = all_data_na.drop(all_data_na[all_data_na == 0].index).sort_values(ascending=False)[:30]\n",
    "missing_data = pd.DataFrame({'Missing Ratio' :all_data_na})\n",
    "missing_data.head(20)"
   ]
  },
  {
   "cell_type": "markdown",
   "id": "29373b58",
   "metadata": {
    "papermill": {
     "duration": 0.008371,
     "end_time": "2022-07-03T17:01:02.999477",
     "exception": false,
     "start_time": "2022-07-03T17:01:02.991106",
     "status": "completed"
    },
    "tags": []
   },
   "source": [
    "# Now it's the time to deal with missing values."
   ]
  },
  {
   "cell_type": "code",
   "execution_count": 11,
   "id": "66fd3317",
   "metadata": {
    "execution": {
     "iopub.execute_input": "2022-07-03T17:01:03.020986Z",
     "iopub.status.busy": "2022-07-03T17:01:03.020165Z",
     "iopub.status.idle": "2022-07-03T17:01:03.074182Z",
     "shell.execute_reply": "2022-07-03T17:01:03.072934Z"
    },
    "papermill": {
     "duration": 0.068809,
     "end_time": "2022-07-03T17:01:03.076989",
     "exception": false,
     "start_time": "2022-07-03T17:01:03.008180",
     "status": "completed"
    },
    "tags": []
   },
   "outputs": [],
   "source": [
    "all_data[\"PoolQC\"] = all_data[\"PoolQC\"].fillna(\"None\")\n",
    "\n",
    "all_data[\"MiscFeature\"] = all_data[\"MiscFeature\"].fillna(\"None\")\n",
    "\n",
    "all_data[\"Alley\"] = all_data[\"Alley\"].fillna(\"None\")\n",
    "\n",
    "all_data[\"Fence\"] = all_data[\"Fence\"].fillna(\"None\")\n",
    "\n",
    "all_data[\"FireplaceQu\"] = all_data[\"FireplaceQu\"].fillna(\"None\")\n",
    "\n",
    "#Group by neighborhood and fill in missing value by the median LotFrontage of all the neighborhood\n",
    "all_data[\"LotFrontage\"] = all_data.groupby(\"Neighborhood\")[\"LotFrontage\"].transform(\n",
    "    lambda x: x.fillna(x.median()))\n",
    "\n",
    "for col in ('GarageType', 'GarageFinish', 'GarageQual', 'GarageCond'):\n",
    "    all_data[col] = all_data[col].fillna('None')\n",
    "    \n",
    "for col in ('GarageYrBlt', 'GarageArea', 'GarageCars'):\n",
    "    all_data[col] = all_data[col].fillna(0)\n",
    "    \n",
    "for col in ('BsmtFinSF1', 'BsmtFinSF2', 'BsmtUnfSF','TotalBsmtSF', 'BsmtFullBath', 'BsmtHalfBath'):\n",
    "    all_data[col] = all_data[col].fillna(0)\n",
    "\n",
    "for col in ('BsmtQual', 'BsmtCond', 'BsmtExposure', 'BsmtFinType1', 'BsmtFinType2'):\n",
    "    all_data[col] = all_data[col].fillna('None')\n",
    "\n",
    "all_data[\"MasVnrType\"] = all_data[\"MasVnrType\"].fillna(\"None\")\n",
    "all_data[\"MasVnrArea\"] = all_data[\"MasVnrArea\"].fillna(0)\n",
    "\n",
    "all_data['MSZoning'] = all_data['MSZoning'].fillna(all_data['MSZoning'].mode()[0])\n",
    "\n",
    "all_data = all_data.drop(['Utilities'], axis=1)\n",
    "\n",
    "all_data[\"Functional\"] = all_data[\"Functional\"].fillna(\"Typ\")\n",
    "\n",
    "all_data['Electrical'] = all_data['Electrical'].fillna(all_data['Electrical'].mode()[0])\n",
    "\n",
    "all_data['KitchenQual'] = all_data['KitchenQual'].fillna(all_data['KitchenQual'].mode()[0])\n",
    "\n",
    "all_data['Exterior1st'] = all_data['Exterior1st'].fillna(all_data['Exterior1st'].mode()[0])\n",
    "all_data['Exterior2nd'] = all_data['Exterior2nd'].fillna(all_data['Exterior2nd'].mode()[0])\n",
    "\n",
    "all_data['SaleType'] = all_data['SaleType'].fillna(all_data['SaleType'].mode()[0])\n",
    "\n",
    "all_data['MSSubClass'] = all_data['MSSubClass'].fillna(\"None\")"
   ]
  },
  {
   "cell_type": "code",
   "execution_count": 12,
   "id": "af1b05d9",
   "metadata": {
    "execution": {
     "iopub.execute_input": "2022-07-03T17:01:03.096974Z",
     "iopub.status.busy": "2022-07-03T17:01:03.096016Z",
     "iopub.status.idle": "2022-07-03T17:01:03.113917Z",
     "shell.execute_reply": "2022-07-03T17:01:03.112795Z"
    },
    "papermill": {
     "duration": 0.030391,
     "end_time": "2022-07-03T17:01:03.116352",
     "exception": false,
     "start_time": "2022-07-03T17:01:03.085961",
     "status": "completed"
    },
    "tags": []
   },
   "outputs": [],
   "source": [
    "#MSSubClass=The building class\n",
    "all_data['MSSubClass'] = all_data['MSSubClass'].apply(str)\n",
    "\n",
    "\n",
    "#Changing OverallCond into a categorical variable\n",
    "all_data['OverallCond'] = all_data['OverallCond'].astype(str)\n",
    "\n",
    "\n",
    "#Year and month sold are transformed into categorical features.\n",
    "all_data['YrSold'] = all_data['YrSold'].astype(str)\n",
    "all_data['MoSold'] = all_data['MoSold'].astype(str)"
   ]
  },
  {
   "cell_type": "code",
   "execution_count": 13,
   "id": "ad062c2f",
   "metadata": {
    "execution": {
     "iopub.execute_input": "2022-07-03T17:01:03.135049Z",
     "iopub.status.busy": "2022-07-03T17:01:03.134610Z",
     "iopub.status.idle": "2022-07-03T17:01:03.365265Z",
     "shell.execute_reply": "2022-07-03T17:01:03.364327Z"
    },
    "papermill": {
     "duration": 0.242662,
     "end_time": "2022-07-03T17:01:03.367260",
     "exception": false,
     "start_time": "2022-07-03T17:01:03.124598",
     "status": "completed"
    },
    "tags": []
   },
   "outputs": [
    {
     "name": "stdout",
     "output_type": "stream",
     "text": [
      "Shape all_data: (2917, 78)\n"
     ]
    }
   ],
   "source": [
    "# labeling columns to some unique values.\n",
    "from sklearn.preprocessing import LabelEncoder\n",
    "cols = ('FireplaceQu', 'BsmtQual', 'BsmtCond', 'GarageQual', 'GarageCond', \n",
    "        'ExterQual', 'ExterCond','HeatingQC', 'PoolQC', 'KitchenQual', 'BsmtFinType1', \n",
    "        'BsmtFinType2', 'Functional', 'Fence', 'BsmtExposure', 'GarageFinish', 'LandSlope',\n",
    "        'LotShape', 'PavedDrive', 'Street', 'Alley', 'CentralAir', 'MSSubClass', 'OverallCond', \n",
    "        'YrSold', 'MoSold')\n",
    "# process columns, apply LabelEncoder to categorical features\n",
    "for c in cols:\n",
    "    lbl = LabelEncoder() \n",
    "    lbl.fit(list(all_data[c].values)) \n",
    "    all_data[c] = lbl.transform(list(all_data[c].values))\n",
    "\n",
    "# shape        \n",
    "print('Shape all_data: {}'.format(all_data.shape))"
   ]
  },
  {
   "cell_type": "code",
   "execution_count": 14,
   "id": "7b9a8c6f",
   "metadata": {
    "execution": {
     "iopub.execute_input": "2022-07-03T17:01:03.385882Z",
     "iopub.status.busy": "2022-07-03T17:01:03.384645Z",
     "iopub.status.idle": "2022-07-03T17:01:03.390254Z",
     "shell.execute_reply": "2022-07-03T17:01:03.389635Z"
    },
    "papermill": {
     "duration": 0.016955,
     "end_time": "2022-07-03T17:01:03.392262",
     "exception": false,
     "start_time": "2022-07-03T17:01:03.375307",
     "status": "completed"
    },
    "tags": []
   },
   "outputs": [],
   "source": [
    "# Adding total sqfootage feature \n",
    "all_data['TotalSF'] = all_data['TotalBsmtSF'] + all_data['1stFlrSF'] + all_data['2ndFlrSF']"
   ]
  },
  {
   "cell_type": "code",
   "execution_count": 15,
   "id": "99ad75b5",
   "metadata": {
    "execution": {
     "iopub.execute_input": "2022-07-03T17:01:03.411411Z",
     "iopub.status.busy": "2022-07-03T17:01:03.410982Z",
     "iopub.status.idle": "2022-07-03T17:01:03.446033Z",
     "shell.execute_reply": "2022-07-03T17:01:03.444887Z"
    },
    "papermill": {
     "duration": 0.047504,
     "end_time": "2022-07-03T17:01:03.448438",
     "exception": false,
     "start_time": "2022-07-03T17:01:03.400934",
     "status": "completed"
    },
    "tags": []
   },
   "outputs": [
    {
     "name": "stdout",
     "output_type": "stream",
     "text": [
      "(2917, 220)\n"
     ]
    }
   ],
   "source": [
    "all_data = pd.get_dummies(all_data)\n",
    "print(all_data.shape)"
   ]
  },
  {
   "cell_type": "code",
   "execution_count": 16,
   "id": "38948eaa",
   "metadata": {
    "execution": {
     "iopub.execute_input": "2022-07-03T17:01:03.467581Z",
     "iopub.status.busy": "2022-07-03T17:01:03.466315Z",
     "iopub.status.idle": "2022-07-03T17:01:03.472204Z",
     "shell.execute_reply": "2022-07-03T17:01:03.471321Z"
    },
    "papermill": {
     "duration": 0.017626,
     "end_time": "2022-07-03T17:01:03.474370",
     "exception": false,
     "start_time": "2022-07-03T17:01:03.456744",
     "status": "completed"
    },
    "tags": []
   },
   "outputs": [],
   "source": [
    "train = all_data[:ntrain]\n",
    "test = all_data[ntrain:]"
   ]
  },
  {
   "cell_type": "code",
   "execution_count": 17,
   "id": "998a7205",
   "metadata": {
    "execution": {
     "iopub.execute_input": "2022-07-03T17:01:03.493086Z",
     "iopub.status.busy": "2022-07-03T17:01:03.491931Z",
     "iopub.status.idle": "2022-07-03T17:01:04.864643Z",
     "shell.execute_reply": "2022-07-03T17:01:04.863382Z"
    },
    "papermill": {
     "duration": 1.386159,
     "end_time": "2022-07-03T17:01:04.868557",
     "exception": false,
     "start_time": "2022-07-03T17:01:03.482398",
     "status": "completed"
    },
    "tags": []
   },
   "outputs": [
    {
     "data": {
      "text/html": [
       "<style type='text/css'>\n",
       ".datatable table.frame { margin-bottom: 0; }\n",
       ".datatable table.frame thead { border-bottom: none; }\n",
       ".datatable table.frame tr.coltypes td {  color: #FFFFFF;  line-height: 6px;  padding: 0 0.5em;}\n",
       ".datatable .bool    { background: #DDDD99; }\n",
       ".datatable .object  { background: #565656; }\n",
       ".datatable .int     { background: #5D9E5D; }\n",
       ".datatable .float   { background: #4040CC; }\n",
       ".datatable .str     { background: #CC4040; }\n",
       ".datatable .time    { background: #40CC40; }\n",
       ".datatable .row_index {  background: var(--jp-border-color3);  border-right: 1px solid var(--jp-border-color0);  color: var(--jp-ui-font-color3);  font-size: 9px;}\n",
       ".datatable .frame tbody td { text-align: left; }\n",
       ".datatable .frame tr.coltypes .row_index {  background: var(--jp-border-color0);}\n",
       ".datatable th:nth-child(2) { padding-left: 12px; }\n",
       ".datatable .hellipsis {  color: var(--jp-cell-editor-border-color);}\n",
       ".datatable .vellipsis {  background: var(--jp-layout-color0);  color: var(--jp-cell-editor-border-color);}\n",
       ".datatable .na {  color: var(--jp-cell-editor-border-color);  font-size: 80%;}\n",
       ".datatable .sp {  opacity: 0.25;}\n",
       ".datatable .footer { font-size: 9px; }\n",
       ".datatable .frame_dimensions {  background: var(--jp-border-color3);  border-top: 1px solid var(--jp-border-color0);  color: var(--jp-ui-font-color3);  display: inline-block;  opacity: 0.6;  padding: 1px 10px 1px 5px;}\n",
       "</style>\n"
      ],
      "text/plain": [
       "<IPython.core.display.HTML object>"
      ]
     },
     "metadata": {},
     "output_type": "display_data"
    }
   ],
   "source": [
    "from sklearn.linear_model import ElasticNet, Lasso,  BayesianRidge, LassoLarsIC\n",
    "from sklearn.ensemble import RandomForestRegressor,  GradientBoostingRegressor\n",
    "from sklearn.kernel_ridge import KernelRidge\n",
    "from sklearn.pipeline import make_pipeline\n",
    "from sklearn.preprocessing import RobustScaler\n",
    "from sklearn.base import BaseEstimator, TransformerMixin, RegressorMixin, clone\n",
    "from sklearn.model_selection import KFold, cross_val_score, train_test_split\n",
    "from sklearn.metrics import mean_squared_error\n",
    "import xgboost as xgb\n",
    "import lightgbm as lgb"
   ]
  },
  {
   "cell_type": "code",
   "execution_count": 18,
   "id": "07a657c2",
   "metadata": {
    "execution": {
     "iopub.execute_input": "2022-07-03T17:01:04.891378Z",
     "iopub.status.busy": "2022-07-03T17:01:04.890892Z",
     "iopub.status.idle": "2022-07-03T17:01:04.903418Z",
     "shell.execute_reply": "2022-07-03T17:01:04.902141Z"
    },
    "papermill": {
     "duration": 0.026247,
     "end_time": "2022-07-03T17:01:04.905869",
     "exception": false,
     "start_time": "2022-07-03T17:01:04.879622",
     "status": "completed"
    },
    "tags": []
   },
   "outputs": [],
   "source": [
    "lasso = make_pipeline(RobustScaler(), Lasso(alpha =0.0001))\n",
    "ENet = make_pipeline(RobustScaler(), ElasticNet(alpha=0.0001, l1_ratio=.9))\n",
    "KRR = KernelRidge(alpha=0.6, kernel='polynomial', degree=2, coef0=2.5)\n",
    "\n",
    "GBoost = GradientBoostingRegressor(n_estimators=3000, learning_rate=0.05,\n",
    "                                   max_depth=4, max_features='sqrt',\n",
    "                                   min_samples_leaf=15, min_samples_split=10, \n",
    "                                   loss='huber', random_state =5)\n",
    "\n",
    "model_xgb = xgb.XGBRegressor(colsample_bytree=0.4603, gamma=0.0468, \n",
    "                             learning_rate=0.01, max_depth=3, \n",
    "                             min_child_weight=1.7817, n_estimators=2200,\n",
    "                             reg_alpha=0.4640, reg_lambda=0.8571,\n",
    "                             subsample=0.5213, silent=1,\n",
    "                             random_state =7, nthread = -1)\n",
    "\n",
    "model_lgb = lgb.LGBMRegressor(objective='regression',num_leaves=5,\n",
    "                              learning_rate=0.01, n_estimators=720,\n",
    "                              max_bin = 55, bagging_fraction = 0.8,\n",
    "                              bagging_freq = 5, feature_fraction = 0.2319,\n",
    "                              feature_fraction_seed=9, bagging_seed=9,\n",
    "                              min_data_in_leaf =6, min_sum_hessian_in_leaf = 11)\n"
   ]
  },
  {
   "cell_type": "code",
   "execution_count": 19,
   "id": "822ae35d",
   "metadata": {
    "execution": {
     "iopub.execute_input": "2022-07-03T17:01:04.927877Z",
     "iopub.status.busy": "2022-07-03T17:01:04.926805Z",
     "iopub.status.idle": "2022-07-03T17:01:04.934605Z",
     "shell.execute_reply": "2022-07-03T17:01:04.933265Z"
    },
    "papermill": {
     "duration": 0.021387,
     "end_time": "2022-07-03T17:01:04.936820",
     "exception": false,
     "start_time": "2022-07-03T17:01:04.915433",
     "status": "completed"
    },
    "tags": []
   },
   "outputs": [],
   "source": [
    "# models = [lasso, ENet, KRR, GBoost, model_xgb, model_lgb]"
   ]
  },
  {
   "cell_type": "code",
   "execution_count": 20,
   "id": "f5ec37b6",
   "metadata": {
    "execution": {
     "iopub.execute_input": "2022-07-03T17:01:04.956933Z",
     "iopub.status.busy": "2022-07-03T17:01:04.955842Z",
     "iopub.status.idle": "2022-07-03T17:01:04.960983Z",
     "shell.execute_reply": "2022-07-03T17:01:04.959726Z"
    },
    "papermill": {
     "duration": 0.017616,
     "end_time": "2022-07-03T17:01:04.963308",
     "exception": false,
     "start_time": "2022-07-03T17:01:04.945692",
     "status": "completed"
    },
    "tags": []
   },
   "outputs": [],
   "source": [
    "# def rmsle_cv(model):\n",
    "#     kf = KFold(5, shuffle=True, random_state=42).get_n_splits(train.values)\n",
    "#     rmse= np.sqrt(-cross_val_score(model, train.values, y_train, scoring=\"neg_mean_squared_error\", cv = kf))\n",
    "#     return(rmse)"
   ]
  },
  {
   "cell_type": "code",
   "execution_count": 21,
   "id": "ccfecbff",
   "metadata": {
    "execution": {
     "iopub.execute_input": "2022-07-03T17:01:04.984475Z",
     "iopub.status.busy": "2022-07-03T17:01:04.983600Z",
     "iopub.status.idle": "2022-07-03T17:01:04.988857Z",
     "shell.execute_reply": "2022-07-03T17:01:04.988028Z"
    },
    "papermill": {
     "duration": 0.018402,
     "end_time": "2022-07-03T17:01:04.991004",
     "exception": false,
     "start_time": "2022-07-03T17:01:04.972602",
     "status": "completed"
    },
    "tags": []
   },
   "outputs": [],
   "source": [
    "# for classifier in models:\n",
    "#     score = rmsle_cv(classifier)\n",
    "#     print(\"\\n{} score: {:.4f} ({:.4f})\\n\".format(classifier, score.mean(), score.std()))"
   ]
  },
  {
   "cell_type": "markdown",
   "id": "bcc63b58",
   "metadata": {
    "papermill": {
     "duration": 0.009212,
     "end_time": "2022-07-03T17:01:05.009379",
     "exception": false,
     "start_time": "2022-07-03T17:01:05.000167",
     "status": "completed"
    },
    "tags": []
   },
   "source": [
    "# Found out that lasso produced the best score"
   ]
  },
  {
   "cell_type": "code",
   "execution_count": 22,
   "id": "0b916c4d",
   "metadata": {
    "execution": {
     "iopub.execute_input": "2022-07-03T17:01:05.030026Z",
     "iopub.status.busy": "2022-07-03T17:01:05.029393Z",
     "iopub.status.idle": "2022-07-03T17:01:05.040957Z",
     "shell.execute_reply": "2022-07-03T17:01:05.039836Z"
    },
    "papermill": {
     "duration": 0.024882,
     "end_time": "2022-07-03T17:01:05.043659",
     "exception": false,
     "start_time": "2022-07-03T17:01:05.018777",
     "status": "completed"
    },
    "tags": []
   },
   "outputs": [],
   "source": [
    "class StackingAveragedModels(BaseEstimator, RegressorMixin, TransformerMixin):\n",
    "    def __init__(self, base_models, meta_model, n_folds=5):\n",
    "        self.base_models = base_models\n",
    "        self.meta_model = meta_model\n",
    "        self.n_folds = n_folds\n",
    "   \n",
    "    # We again fit the data on clones of the original models\n",
    "    def fit(self, X, y):\n",
    "        self.base_models_ = [list() for x in self.base_models]\n",
    "        self.meta_model_ = clone(self.meta_model)\n",
    "        kfold = KFold(n_splits=self.n_folds, shuffle=True, random_state=156)\n",
    "        \n",
    "        # Train cloned base models then create out-of-fold predictions\n",
    "        # that are needed to train the cloned meta-model\n",
    "        out_of_fold_predictions = np.zeros((X.shape[0], len(self.base_models)))\n",
    "        for i, model in enumerate(self.base_models):\n",
    "            for train_index, holdout_index in kfold.split(X, y):\n",
    "                instance = clone(model)\n",
    "                self.base_models_[i].append(instance)\n",
    "                instance.fit(X[train_index], y[train_index])\n",
    "                y_pred = instance.predict(X[holdout_index])\n",
    "                out_of_fold_predictions[holdout_index, i] = y_pred\n",
    "                \n",
    "        # Now train the cloned  meta-model using the out-of-fold predictions as new feature\n",
    "        self.meta_model_.fit(out_of_fold_predictions, y)\n",
    "        return self\n",
    "   \n",
    "    #Do the predictions of all base models on the test data and use the averaged predictions as \n",
    "    #meta-features for the final prediction which is done by the meta-model\n",
    "    def predict(self, X):\n",
    "        meta_features = np.column_stack([\n",
    "            np.column_stack([model.predict(X) for model in base_models]).mean(axis=1)\n",
    "            for base_models in self.base_models_ ])\n",
    "        return self.meta_model_.predict(meta_features)"
   ]
  },
  {
   "cell_type": "code",
   "execution_count": 23,
   "id": "3e05477e",
   "metadata": {
    "execution": {
     "iopub.execute_input": "2022-07-03T17:01:05.064564Z",
     "iopub.status.busy": "2022-07-03T17:01:05.064009Z",
     "iopub.status.idle": "2022-07-03T17:01:05.069380Z",
     "shell.execute_reply": "2022-07-03T17:01:05.068563Z"
    },
    "papermill": {
     "duration": 0.018778,
     "end_time": "2022-07-03T17:01:05.071546",
     "exception": false,
     "start_time": "2022-07-03T17:01:05.052768",
     "status": "completed"
    },
    "tags": []
   },
   "outputs": [],
   "source": [
    "def rmsle_cv(model):\n",
    "    kf = KFold(5, shuffle=True, random_state=42).get_n_splits(train.values)\n",
    "    rmse= np.sqrt(-cross_val_score(model, train.values, y_train, scoring=\"neg_mean_squared_error\", cv = kf))\n",
    "    return(rmse)"
   ]
  },
  {
   "cell_type": "code",
   "execution_count": 24,
   "id": "20926206",
   "metadata": {
    "execution": {
     "iopub.execute_input": "2022-07-03T17:01:05.093212Z",
     "iopub.status.busy": "2022-07-03T17:01:05.092678Z",
     "iopub.status.idle": "2022-07-03T17:06:35.223980Z",
     "shell.execute_reply": "2022-07-03T17:06:35.222728Z"
    },
    "papermill": {
     "duration": 330.14566,
     "end_time": "2022-07-03T17:06:35.227043",
     "exception": false,
     "start_time": "2022-07-03T17:01:05.081383",
     "status": "completed"
    },
    "tags": []
   },
   "outputs": [
    {
     "name": "stderr",
     "output_type": "stream",
     "text": [
      "/opt/conda/lib/python3.7/site-packages/sklearn/linear_model/_ridge.py:194: LinAlgWarning: Ill-conditioned matrix (rcond=1.26712e-18): result may not be accurate.\n",
      "  dual_coef = linalg.solve(K, y, sym_pos=True, overwrite_a=False)\n",
      "/opt/conda/lib/python3.7/site-packages/sklearn/linear_model/_ridge.py:194: LinAlgWarning: Ill-conditioned matrix (rcond=1.29086e-18): result may not be accurate.\n",
      "  dual_coef = linalg.solve(K, y, sym_pos=True, overwrite_a=False)\n",
      "/opt/conda/lib/python3.7/site-packages/sklearn/linear_model/_ridge.py:194: LinAlgWarning: Ill-conditioned matrix (rcond=1.60203e-18): result may not be accurate.\n",
      "  dual_coef = linalg.solve(K, y, sym_pos=True, overwrite_a=False)\n",
      "/opt/conda/lib/python3.7/site-packages/sklearn/linear_model/_ridge.py:194: LinAlgWarning: Ill-conditioned matrix (rcond=1.19457e-18): result may not be accurate.\n",
      "  dual_coef = linalg.solve(K, y, sym_pos=True, overwrite_a=False)\n",
      "/opt/conda/lib/python3.7/site-packages/sklearn/linear_model/_ridge.py:194: LinAlgWarning: Ill-conditioned matrix (rcond=9.37054e-18): result may not be accurate.\n",
      "  dual_coef = linalg.solve(K, y, sym_pos=True, overwrite_a=False)\n",
      "/opt/conda/lib/python3.7/site-packages/sklearn/linear_model/_ridge.py:194: LinAlgWarning: Ill-conditioned matrix (rcond=2.82018e-18): result may not be accurate.\n",
      "  dual_coef = linalg.solve(K, y, sym_pos=True, overwrite_a=False)\n",
      "/opt/conda/lib/python3.7/site-packages/sklearn/linear_model/_ridge.py:194: LinAlgWarning: Ill-conditioned matrix (rcond=3.12769e-18): result may not be accurate.\n",
      "  dual_coef = linalg.solve(K, y, sym_pos=True, overwrite_a=False)\n",
      "/opt/conda/lib/python3.7/site-packages/sklearn/linear_model/_ridge.py:194: LinAlgWarning: Ill-conditioned matrix (rcond=4.25827e-18): result may not be accurate.\n",
      "  dual_coef = linalg.solve(K, y, sym_pos=True, overwrite_a=False)\n",
      "/opt/conda/lib/python3.7/site-packages/sklearn/linear_model/_ridge.py:194: LinAlgWarning: Ill-conditioned matrix (rcond=6.78135e-18): result may not be accurate.\n",
      "  dual_coef = linalg.solve(K, y, sym_pos=True, overwrite_a=False)\n",
      "/opt/conda/lib/python3.7/site-packages/sklearn/linear_model/_ridge.py:194: LinAlgWarning: Ill-conditioned matrix (rcond=3.54316e-18): result may not be accurate.\n",
      "  dual_coef = linalg.solve(K, y, sym_pos=True, overwrite_a=False)\n",
      "/opt/conda/lib/python3.7/site-packages/sklearn/linear_model/_ridge.py:194: LinAlgWarning: Ill-conditioned matrix (rcond=1.27802e-18): result may not be accurate.\n",
      "  dual_coef = linalg.solve(K, y, sym_pos=True, overwrite_a=False)\n",
      "/opt/conda/lib/python3.7/site-packages/sklearn/linear_model/_ridge.py:194: LinAlgWarning: Ill-conditioned matrix (rcond=2.66437e-18): result may not be accurate.\n",
      "  dual_coef = linalg.solve(K, y, sym_pos=True, overwrite_a=False)\n",
      "/opt/conda/lib/python3.7/site-packages/sklearn/linear_model/_ridge.py:194: LinAlgWarning: Ill-conditioned matrix (rcond=1.18432e-18): result may not be accurate.\n",
      "  dual_coef = linalg.solve(K, y, sym_pos=True, overwrite_a=False)\n",
      "/opt/conda/lib/python3.7/site-packages/sklearn/linear_model/_ridge.py:194: LinAlgWarning: Ill-conditioned matrix (rcond=1.61583e-18): result may not be accurate.\n",
      "  dual_coef = linalg.solve(K, y, sym_pos=True, overwrite_a=False)\n",
      "/opt/conda/lib/python3.7/site-packages/sklearn/linear_model/_ridge.py:194: LinAlgWarning: Ill-conditioned matrix (rcond=1.68501e-18): result may not be accurate.\n",
      "  dual_coef = linalg.solve(K, y, sym_pos=True, overwrite_a=False)\n",
      "/opt/conda/lib/python3.7/site-packages/sklearn/linear_model/_ridge.py:194: LinAlgWarning: Ill-conditioned matrix (rcond=9.16782e-19): result may not be accurate.\n",
      "  dual_coef = linalg.solve(K, y, sym_pos=True, overwrite_a=False)\n",
      "/opt/conda/lib/python3.7/site-packages/sklearn/linear_model/_ridge.py:194: LinAlgWarning: Ill-conditioned matrix (rcond=2.07882e-18): result may not be accurate.\n",
      "  dual_coef = linalg.solve(K, y, sym_pos=True, overwrite_a=False)\n",
      "/opt/conda/lib/python3.7/site-packages/sklearn/linear_model/_ridge.py:194: LinAlgWarning: Ill-conditioned matrix (rcond=1.05194e-18): result may not be accurate.\n",
      "  dual_coef = linalg.solve(K, y, sym_pos=True, overwrite_a=False)\n",
      "/opt/conda/lib/python3.7/site-packages/sklearn/linear_model/_ridge.py:194: LinAlgWarning: Ill-conditioned matrix (rcond=1.44096e-18): result may not be accurate.\n",
      "  dual_coef = linalg.solve(K, y, sym_pos=True, overwrite_a=False)\n",
      "/opt/conda/lib/python3.7/site-packages/sklearn/linear_model/_ridge.py:194: LinAlgWarning: Ill-conditioned matrix (rcond=1.2037e-18): result may not be accurate.\n",
      "  dual_coef = linalg.solve(K, y, sym_pos=True, overwrite_a=False)\n",
      "/opt/conda/lib/python3.7/site-packages/sklearn/linear_model/_ridge.py:194: LinAlgWarning: Ill-conditioned matrix (rcond=1.08596e-18): result may not be accurate.\n",
      "  dual_coef = linalg.solve(K, y, sym_pos=True, overwrite_a=False)\n",
      "/opt/conda/lib/python3.7/site-packages/sklearn/linear_model/_ridge.py:194: LinAlgWarning: Ill-conditioned matrix (rcond=2.60396e-18): result may not be accurate.\n",
      "  dual_coef = linalg.solve(K, y, sym_pos=True, overwrite_a=False)\n",
      "/opt/conda/lib/python3.7/site-packages/sklearn/linear_model/_ridge.py:194: LinAlgWarning: Ill-conditioned matrix (rcond=1.12498e-18): result may not be accurate.\n",
      "  dual_coef = linalg.solve(K, y, sym_pos=True, overwrite_a=False)\n",
      "/opt/conda/lib/python3.7/site-packages/sklearn/linear_model/_ridge.py:194: LinAlgWarning: Ill-conditioned matrix (rcond=1.30941e-18): result may not be accurate.\n",
      "  dual_coef = linalg.solve(K, y, sym_pos=True, overwrite_a=False)\n",
      "/opt/conda/lib/python3.7/site-packages/sklearn/linear_model/_ridge.py:194: LinAlgWarning: Ill-conditioned matrix (rcond=1.64416e-18): result may not be accurate.\n",
      "  dual_coef = linalg.solve(K, y, sym_pos=True, overwrite_a=False)\n"
     ]
    },
    {
     "name": "stdout",
     "output_type": "stream",
     "text": [
      "Stacking Averaged models score: 0.1100 (0.0079)\n"
     ]
    }
   ],
   "source": [
    "stacked_averaged_models = StackingAveragedModels(base_models = (ENet, GBoost, KRR),\n",
    "                                                 meta_model = lasso)\n",
    "\n",
    "score = rmsle_cv(stacked_averaged_models)\n",
    "print(\"Stacking Averaged models score: {:.4f} ({:.4f})\".format(score.mean(), score.std()))"
   ]
  },
  {
   "cell_type": "code",
   "execution_count": 25,
   "id": "c3962019",
   "metadata": {
    "execution": {
     "iopub.execute_input": "2022-07-03T17:06:35.265956Z",
     "iopub.status.busy": "2022-07-03T17:06:35.265259Z",
     "iopub.status.idle": "2022-07-03T17:06:35.272168Z",
     "shell.execute_reply": "2022-07-03T17:06:35.271028Z"
    },
    "papermill": {
     "duration": 0.029867,
     "end_time": "2022-07-03T17:06:35.274785",
     "exception": false,
     "start_time": "2022-07-03T17:06:35.244918",
     "status": "completed"
    },
    "tags": []
   },
   "outputs": [],
   "source": [
    "def rmsle(y, y_pred):\n",
    "    return np.sqrt(mean_squared_error(y, y_pred))"
   ]
  },
  {
   "cell_type": "code",
   "execution_count": 26,
   "id": "dbb811ad",
   "metadata": {
    "execution": {
     "iopub.execute_input": "2022-07-03T17:06:35.313432Z",
     "iopub.status.busy": "2022-07-03T17:06:35.312752Z",
     "iopub.status.idle": "2022-07-03T17:07:47.620440Z",
     "shell.execute_reply": "2022-07-03T17:07:47.619324Z"
    },
    "papermill": {
     "duration": 72.33103,
     "end_time": "2022-07-03T17:07:47.623891",
     "exception": false,
     "start_time": "2022-07-03T17:06:35.292861",
     "status": "completed"
    },
    "tags": []
   },
   "outputs": [
    {
     "name": "stderr",
     "output_type": "stream",
     "text": [
      "/opt/conda/lib/python3.7/site-packages/sklearn/linear_model/_ridge.py:194: LinAlgWarning: Ill-conditioned matrix (rcond=8.36884e-19): result may not be accurate.\n",
      "  dual_coef = linalg.solve(K, y, sym_pos=True, overwrite_a=False)\n",
      "/opt/conda/lib/python3.7/site-packages/sklearn/linear_model/_ridge.py:194: LinAlgWarning: Ill-conditioned matrix (rcond=1.21307e-18): result may not be accurate.\n",
      "  dual_coef = linalg.solve(K, y, sym_pos=True, overwrite_a=False)\n",
      "/opt/conda/lib/python3.7/site-packages/sklearn/linear_model/_ridge.py:194: LinAlgWarning: Ill-conditioned matrix (rcond=5.60038e-19): result may not be accurate.\n",
      "  dual_coef = linalg.solve(K, y, sym_pos=True, overwrite_a=False)\n",
      "/opt/conda/lib/python3.7/site-packages/sklearn/linear_model/_ridge.py:194: LinAlgWarning: Ill-conditioned matrix (rcond=6.17129e-19): result may not be accurate.\n",
      "  dual_coef = linalg.solve(K, y, sym_pos=True, overwrite_a=False)\n",
      "/opt/conda/lib/python3.7/site-packages/sklearn/linear_model/_ridge.py:194: LinAlgWarning: Ill-conditioned matrix (rcond=7.91913e-19): result may not be accurate.\n",
      "  dual_coef = linalg.solve(K, y, sym_pos=True, overwrite_a=False)\n"
     ]
    },
    {
     "name": "stdout",
     "output_type": "stream",
     "text": [
      "0.06978863146406147\n"
     ]
    }
   ],
   "source": [
    "stacked_averaged_models.fit(train.values, y_train)\n",
    "stacked_train_pred = stacked_averaged_models.predict(train.values)\n",
    "stacked_pred = np.expm1(stacked_averaged_models.predict(test.values))\n",
    "print(rmsle(y_train, stacked_train_pred))"
   ]
  },
  {
   "cell_type": "code",
   "execution_count": 27,
   "id": "f9098a6f",
   "metadata": {
    "execution": {
     "iopub.execute_input": "2022-07-03T17:07:47.664987Z",
     "iopub.status.busy": "2022-07-03T17:07:47.664405Z",
     "iopub.status.idle": "2022-07-03T17:07:59.023613Z",
     "shell.execute_reply": "2022-07-03T17:07:59.022725Z"
    },
    "papermill": {
     "duration": 11.383004,
     "end_time": "2022-07-03T17:07:59.025968",
     "exception": false,
     "start_time": "2022-07-03T17:07:47.642964",
     "status": "completed"
    },
    "tags": []
   },
   "outputs": [
    {
     "name": "stdout",
     "output_type": "stream",
     "text": [
      "[17:07:47] WARNING: ../src/learner.cc:627: \n",
      "Parameters: { \"silent\" } might not be used.\n",
      "\n",
      "  This could be a false alarm, with some parameters getting used by language bindings but\n",
      "  then being mistakenly passed down to XGBoost core, or some parameter actually being used\n",
      "  but getting flagged wrongly here. Please open an issue if you find any such cases.\n",
      "\n",
      "\n",
      "0.08729972297639721\n"
     ]
    }
   ],
   "source": [
    "model_xgb.fit(train, y_train)\n",
    "xgb_train_pred = model_xgb.predict(train)\n",
    "xgb_pred = np.expm1(model_xgb.predict(test))\n",
    "print(rmsle(y_train, xgb_train_pred))"
   ]
  },
  {
   "cell_type": "code",
   "execution_count": 28,
   "id": "8509bd68",
   "metadata": {
    "execution": {
     "iopub.execute_input": "2022-07-03T17:07:59.048043Z",
     "iopub.status.busy": "2022-07-03T17:07:59.047625Z",
     "iopub.status.idle": "2022-07-03T17:07:59.622142Z",
     "shell.execute_reply": "2022-07-03T17:07:59.621048Z"
    },
    "papermill": {
     "duration": 0.589023,
     "end_time": "2022-07-03T17:07:59.625357",
     "exception": false,
     "start_time": "2022-07-03T17:07:59.036334",
     "status": "completed"
    },
    "tags": []
   },
   "outputs": [
    {
     "name": "stdout",
     "output_type": "stream",
     "text": [
      "[LightGBM] [Warning] feature_fraction is set=0.2319, colsample_bytree=1.0 will be ignored. Current value: feature_fraction=0.2319\n",
      "[LightGBM] [Warning] min_sum_hessian_in_leaf is set=11, min_child_weight=0.001 will be ignored. Current value: min_sum_hessian_in_leaf=11\n",
      "[LightGBM] [Warning] min_data_in_leaf is set=6, min_child_samples=20 will be ignored. Current value: min_data_in_leaf=6\n",
      "[LightGBM] [Warning] bagging_freq is set=5, subsample_freq=0 will be ignored. Current value: bagging_freq=5\n",
      "[LightGBM] [Warning] bagging_fraction is set=0.8, subsample=1.0 will be ignored. Current value: bagging_fraction=0.8\n",
      "0.10471415799571908\n"
     ]
    }
   ],
   "source": [
    "model_lgb.fit(train, y_train)\n",
    "lgb_train_pred = model_lgb.predict(train)\n",
    "lgb_pred = np.expm1(model_lgb.predict(test.values))\n",
    "print(rmsle(y_train, lgb_train_pred))"
   ]
  },
  {
   "cell_type": "code",
   "execution_count": 29,
   "id": "77148013",
   "metadata": {
    "execution": {
     "iopub.execute_input": "2022-07-03T17:07:59.649317Z",
     "iopub.status.busy": "2022-07-03T17:07:59.648099Z",
     "iopub.status.idle": "2022-07-03T17:07:59.656495Z",
     "shell.execute_reply": "2022-07-03T17:07:59.654897Z"
    },
    "papermill": {
     "duration": 0.022821,
     "end_time": "2022-07-03T17:07:59.659374",
     "exception": false,
     "start_time": "2022-07-03T17:07:59.636553",
     "status": "completed"
    },
    "tags": []
   },
   "outputs": [
    {
     "name": "stdout",
     "output_type": "stream",
     "text": [
      "RMSLE score on train data:\n",
      "0.07501153181167211\n"
     ]
    }
   ],
   "source": [
    "'''RMSE on the entire Train data when averaging'''\n",
    "\n",
    "print('RMSLE score on train data:')\n",
    "print(rmsle(y_train,stacked_train_pred*0.70 +\n",
    "               xgb_train_pred*0.15 + lgb_train_pred*0.15 ))"
   ]
  },
  {
   "cell_type": "code",
   "execution_count": 30,
   "id": "6c3a6f19",
   "metadata": {
    "execution": {
     "iopub.execute_input": "2022-07-03T17:07:59.683558Z",
     "iopub.status.busy": "2022-07-03T17:07:59.682369Z",
     "iopub.status.idle": "2022-07-03T17:07:59.688239Z",
     "shell.execute_reply": "2022-07-03T17:07:59.687214Z"
    },
    "papermill": {
     "duration": 0.019681,
     "end_time": "2022-07-03T17:07:59.690351",
     "exception": false,
     "start_time": "2022-07-03T17:07:59.670670",
     "status": "completed"
    },
    "tags": []
   },
   "outputs": [],
   "source": [
    "ensemble = stacked_pred*0.70 + xgb_pred*0.15 + lgb_pred*0.15"
   ]
  },
  {
   "cell_type": "code",
   "execution_count": 31,
   "id": "1ada075d",
   "metadata": {
    "execution": {
     "iopub.execute_input": "2022-07-03T17:07:59.713367Z",
     "iopub.status.busy": "2022-07-03T17:07:59.712020Z",
     "iopub.status.idle": "2022-07-03T17:07:59.728257Z",
     "shell.execute_reply": "2022-07-03T17:07:59.727036Z"
    },
    "papermill": {
     "duration": 0.030486,
     "end_time": "2022-07-03T17:07:59.730896",
     "exception": false,
     "start_time": "2022-07-03T17:07:59.700410",
     "status": "completed"
    },
    "tags": []
   },
   "outputs": [],
   "source": [
    "sub = pd.DataFrame()\n",
    "sub['Id'] = test_ID\n",
    "sub['SalePrice'] = ensemble\n",
    "sub.to_csv('submission.csv',index=False)"
   ]
  },
  {
   "cell_type": "code",
   "execution_count": null,
   "id": "e3827b0e",
   "metadata": {
    "papermill": {
     "duration": 0.010621,
     "end_time": "2022-07-03T17:07:59.751847",
     "exception": false,
     "start_time": "2022-07-03T17:07:59.741226",
     "status": "completed"
    },
    "tags": []
   },
   "outputs": [],
   "source": []
  }
 ],
 "metadata": {
  "kernelspec": {
   "display_name": "Python 3",
   "language": "python",
   "name": "python3"
  },
  "language_info": {
   "codemirror_mode": {
    "name": "ipython",
    "version": 3
   },
   "file_extension": ".py",
   "mimetype": "text/x-python",
   "name": "python",
   "nbconvert_exporter": "python",
   "pygments_lexer": "ipython3",
   "version": "3.7.12"
  },
  "papermill": {
   "default_parameters": {},
   "duration": 428.504145,
   "end_time": "2022-07-03T17:08:00.586451",
   "environment_variables": {},
   "exception": null,
   "input_path": "__notebook__.ipynb",
   "output_path": "__notebook__.ipynb",
   "parameters": {},
   "start_time": "2022-07-03T17:00:52.082306",
   "version": "2.3.4"
  }
 },
 "nbformat": 4,
 "nbformat_minor": 5
}
